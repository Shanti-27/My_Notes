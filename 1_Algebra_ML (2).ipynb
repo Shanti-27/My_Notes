{
  "nbformat": 4,
  "nbformat_minor": 0,
  "metadata": {
    "colab": {
      "provenance": []
    },
    "kernelspec": {
      "name": "python3",
      "display_name": "Python 3"
    },
    "language_info": {
      "name": "python"
    }
  },
  "cells": [
    {
      "cell_type": "markdown",
      "source": [
        "# 1 Algebra"
      ],
      "metadata": {
        "id": "rxFH5SSi7vFb"
      }
    },
    {
      "cell_type": "code",
      "source": [
        "# Distance from origin --> Euclidean Distance\n",
        "import numpy as np\n",
        "\n",
        "# define an n-dim vector A\n",
        "\n",
        "A = np.array([1,2,3,4,5,6,7,8,9,10,11,12,13,14,15,16,150])\n",
        "\n",
        "# calculate he Euclidean dist from the origin (L2 Norm - other name of Euclidean distance and L1 is the other name of manhattan distance)\n",
        "distance = np.linalg.norm(A)\n",
        "\n",
        "print(\"Euclidean Distance from the origin:\", distance)"
      ],
      "metadata": {
        "colab": {
          "base_uri": "https://localhost:8080/"
        },
        "id": "yG86MG-k7t9v",
        "outputId": "db4e1933-4367-49d6-bba2-5ce763ad9980"
      },
      "execution_count": null,
      "outputs": [
        {
          "output_type": "stream",
          "name": "stdout",
          "text": [
            "Euclidean Distance from the origin: 154.90642336585015\n"
          ]
        }
      ]
    },
    {
      "cell_type": "code",
      "source": [
        "# To find Euclidean dostance in N=-Dim\n",
        "\n",
        "# Define two n-dim vectors A and B\n",
        "\n",
        "A = np.array([1,2,3,4,5,6])\n",
        "B = np.array([10,12,5,6,4,8])\n",
        "\n",
        "# calculate the differene vector\n",
        "difference = A - B\n",
        "difference"
      ],
      "metadata": {
        "colab": {
          "base_uri": "https://localhost:8080/"
        },
        "id": "1TytOLSR7t_M",
        "outputId": "65e31919-696d-40de-9eb9-83e9d4724be2"
      },
      "execution_count": null,
      "outputs": [
        {
          "output_type": "execute_result",
          "data": {
            "text/plain": [
              "array([ -9, -10,  -2,  -2,   1,  -2])"
            ]
          },
          "metadata": {},
          "execution_count": 5
        }
      ]
    },
    {
      "cell_type": "code",
      "source": [
        "# calculate the Euclidean distance A and B (L2 norm of the difference)\n",
        "distance = np.linalg.norm(difference)\n",
        "print(\"Euclidean Distance between A and B :\", distance)"
      ],
      "metadata": {
        "colab": {
          "base_uri": "https://localhost:8080/"
        },
        "id": "hax5Jn217uCi",
        "outputId": "97fc387e-614e-4925-969d-566fad504adc"
      },
      "execution_count": null,
      "outputs": [
        {
          "output_type": "stream",
          "name": "stdout",
          "text": [
            "Euclidean Distance between A and B : 13.92838827718412\n"
          ]
        }
      ]
    },
    {
      "cell_type": "markdown",
      "source": [
        "# Mean Centric Data\n",
        "\n",
        "If data is plotted and outliers are present, along with a wide range of values, there's a need to normalize the data. Normalization helps in reducing the range of values and bringing the data closer to the mean value. This process aids in making the data more suitable for analysis and modeling."
      ],
      "metadata": {
        "id": "P1B9Tk7PMymC"
      }
    },
    {
      "cell_type": "code",
      "source": [
        "import numpy as np\n",
        "import matplotlib.pyplot as plt\n",
        "\n",
        "# Generate random 2D data with 100 points\n",
        "\n",
        "data = np.random.rand(100,2)\n",
        "data"
      ],
      "metadata": {
        "colab": {
          "base_uri": "https://localhost:8080/"
        },
        "id": "0Fq3eFFo7uHT",
        "outputId": "7522ebbe-7830-4533-bf2a-07b144ecc872"
      },
      "execution_count": null,
      "outputs": [
        {
          "output_type": "execute_result",
          "data": {
            "text/plain": [
              "array([[0.88183898, 0.40138888],\n",
              "       [0.53869947, 0.08253616],\n",
              "       [0.57780207, 0.24215064],\n",
              "       [0.20992851, 0.11343197],\n",
              "       [0.99965945, 0.22989801],\n",
              "       [0.48938492, 0.04729634],\n",
              "       [0.53515478, 0.08839593],\n",
              "       [0.23234719, 0.00551773],\n",
              "       [0.49968766, 0.32468464],\n",
              "       [0.24077794, 0.14010622],\n",
              "       [0.79355776, 0.47219014],\n",
              "       [0.70026773, 0.18451544],\n",
              "       [0.08472978, 0.43554209],\n",
              "       [0.18628503, 0.41243729],\n",
              "       [0.53440931, 0.47595777],\n",
              "       [0.29936492, 0.264783  ],\n",
              "       [0.010282  , 0.97718955],\n",
              "       [0.96727078, 0.7701832 ],\n",
              "       [0.6314572 , 0.29922881],\n",
              "       [0.66598972, 0.64001163],\n",
              "       [0.95195059, 0.08609831],\n",
              "       [0.75413173, 0.62260499],\n",
              "       [0.36816849, 0.03889567],\n",
              "       [0.11962353, 0.23373155],\n",
              "       [0.39888895, 0.64996543],\n",
              "       [0.13484196, 0.06450954],\n",
              "       [0.21690447, 0.7111698 ],\n",
              "       [0.74874932, 0.51802667],\n",
              "       [0.16282387, 0.72568604],\n",
              "       [0.66459445, 0.24397963],\n",
              "       [0.5912745 , 0.26711118],\n",
              "       [0.21241266, 0.50826358],\n",
              "       [0.9539176 , 0.14422793],\n",
              "       [0.61789122, 0.68021741],\n",
              "       [0.0541562 , 0.30422471],\n",
              "       [0.10115307, 0.47287202],\n",
              "       [0.8833124 , 0.92747852],\n",
              "       [0.78077991, 0.17671515],\n",
              "       [0.73948817, 0.45957015],\n",
              "       [0.49479566, 0.65417231],\n",
              "       [0.97185028, 0.70892034],\n",
              "       [0.2814848 , 0.72265998],\n",
              "       [0.0228129 , 0.92224323],\n",
              "       [0.5931384 , 0.35428994],\n",
              "       [0.12006577, 0.55851608],\n",
              "       [0.82059142, 0.61504164],\n",
              "       [0.9706135 , 0.91488085],\n",
              "       [0.36116146, 0.84024289],\n",
              "       [0.94703673, 0.503008  ],\n",
              "       [0.67521926, 0.26993287],\n",
              "       [0.95036134, 0.62847699],\n",
              "       [0.38639103, 0.0146245 ],\n",
              "       [0.17368637, 0.94426721],\n",
              "       [0.75725875, 0.84286348],\n",
              "       [0.73322766, 0.24624291],\n",
              "       [0.23542237, 0.18319535],\n",
              "       [0.79058191, 0.52049406],\n",
              "       [0.80884971, 0.5875486 ],\n",
              "       [0.85280522, 0.99031783],\n",
              "       [0.31861509, 0.85214576],\n",
              "       [0.23961082, 0.14974888],\n",
              "       [0.91224574, 0.47930946],\n",
              "       [0.75244613, 0.07887246],\n",
              "       [0.09205138, 0.331871  ],\n",
              "       [0.45759568, 0.32788003],\n",
              "       [0.48635588, 0.81797394],\n",
              "       [0.49105746, 0.27246019],\n",
              "       [0.92548336, 0.27751007],\n",
              "       [0.67199581, 0.28390798],\n",
              "       [0.99623966, 0.72585305],\n",
              "       [0.66313278, 0.16796709],\n",
              "       [0.90613219, 0.1450124 ],\n",
              "       [0.5931116 , 0.89232767],\n",
              "       [0.54431414, 0.83925585],\n",
              "       [0.30016723, 0.71187919],\n",
              "       [0.90621757, 0.8821724 ],\n",
              "       [0.96153465, 0.15262586],\n",
              "       [0.42498459, 0.34787839],\n",
              "       [0.05965345, 0.32468433],\n",
              "       [0.10020387, 0.59571137],\n",
              "       [0.59263561, 0.71692251],\n",
              "       [0.34891279, 0.74981397],\n",
              "       [0.56501308, 0.56037634],\n",
              "       [0.0289566 , 0.70892501],\n",
              "       [0.43351956, 0.27036521],\n",
              "       [0.08084152, 0.72779669],\n",
              "       [0.62771295, 0.17745381],\n",
              "       [0.65124072, 0.23383655],\n",
              "       [0.2710257 , 0.2889247 ],\n",
              "       [0.04380284, 0.90591304],\n",
              "       [0.85437804, 0.0480635 ],\n",
              "       [0.19778082, 0.61649498],\n",
              "       [0.03731765, 0.81640845],\n",
              "       [0.48099292, 0.65085674],\n",
              "       [0.05905975, 0.44947627],\n",
              "       [0.73440357, 0.42040623],\n",
              "       [0.4049533 , 0.11704488],\n",
              "       [0.85850044, 0.27022035],\n",
              "       [0.38615612, 0.93156455],\n",
              "       [0.88196433, 0.10288904]])"
            ]
          },
          "metadata": {},
          "execution_count": 13
        }
      ]
    },
    {
      "cell_type": "code",
      "source": [
        "# Plot the original data\n",
        "plt.figure(figsize=(12,6))\n",
        "plt.subplot(1,2,1)\n",
        "plt.scatter(data[:,0], data[:,1], label = \"Original Data\")\n",
        "plt.xlabel(\"X-Axis\")\n",
        "plt.xlabel(\"Y-Axis\")\n",
        "plt.title(\"Before Mean Centering\")\n",
        "plt.axhline(0, color='black', linewidth=0.5)\n",
        "plt.axvline(0, color='black', linewidth=0.5)\n",
        "plt.legend()\n",
        "plt.show()"
      ],
      "metadata": {
        "colab": {
          "base_uri": "https://localhost:8080/",
          "height": 564
        },
        "id": "54Ky4ybb7uI2",
        "outputId": "44238406-0900-4eeb-ef05-828b0d4ac5d1"
      },
      "execution_count": null,
      "outputs": [
        {
          "output_type": "display_data",
          "data": {
            "text/plain": [
              "<Figure size 1200x600 with 1 Axes>"
            ],
            "image/png": "[encoded data removed]"
          },
          "metadata": {}
        }
      ]
    },
    {
      "cell_type": "code",
      "source": [
        "# Calculate the mean of the data along with each dimension\n",
        "data_mean = np.mean(data, axis=0) # axis = 0 is row wise\n",
        "print(data_mean)"
      ],
      "metadata": {
        "colab": {
          "base_uri": "https://localhost:8080/"
        },
        "id": "FoI3dgxa7uMD",
        "outputId": "6bf83b61-771c-424c-9be8-18645c62e531"
      },
      "execution_count": null,
      "outputs": [
        {
          "output_type": "stream",
          "name": "stdout",
          "text": [
            "[0.49422625 0.53630026]\n"
          ]
        }
      ]
    },
    {
      "cell_type": "code",
      "source": [
        "# Perform mean Centering\n",
        "centered_data = data - data_mean"
      ],
      "metadata": {
        "id": "cJNJAGZW7uNp"
      },
      "execution_count": null,
      "outputs": []
    },
    {
      "cell_type": "code",
      "source": [
        "# Plot the original data\n",
        "plt.figure(figsize=(12,6))\n",
        "plt.subplot(1,2,2)\n",
        "plt.scatter(centered_data[:,0], centered_data[:,1], label = \"Mean-Centered Data\", color='red')\n",
        "plt.xlabel(\"X-Axis\")\n",
        "plt.xlabel(\"Y-Axis\")\n",
        "plt.title(\"After Mean Centering\")\n",
        "plt.axhline(0, color='black', linewidth=0.5)\n",
        "plt.axvline(0, color='black', linewidth=0.5)\n",
        "plt.legend()\n",
        "plt.show()"
      ],
      "metadata": {
        "colab": {
          "base_uri": "https://localhost:8080/",
          "height": 564
        },
        "id": "W7tAdjpi7uQ5",
        "outputId": "4067db1e-86fb-4b4f-f0d0-e93865f97010"
      },
      "execution_count": null,
      "outputs": [
        {
          "output_type": "display_data",
          "data": {
            "text/plain": [
              "<Figure size 1200x600 with 1 Axes>"
            ],
            "image/png": "[encoded data removed]"
          },
          "metadata": {}
        }
      ]
    },
    {
      "cell_type": "code",
      "source": [
        "# Comparing Both the above plot\n",
        "\n",
        "# Plot the original data\n",
        "plt.figure(figsize=(10,5))\n",
        "plt.subplot(1,2,1) # 1 row , 2 colums and 1st image\n",
        "plt.scatter(data[:,0], data[:,1], label = \"Original Data\")\n",
        "plt.xlabel(\"X-Axis\")\n",
        "plt.xlabel(\"Y-Axis\")\n",
        "plt.title(\"Before Mean Centering\")\n",
        "plt.axhline(0, color='black', linewidth=0.5)\n",
        "plt.axvline(0, color='black', linewidth=0.5)\n",
        "plt.legend()\n",
        "plt.show()\n",
        "\n",
        "\n",
        "\n",
        "\n",
        "# Plot the original data\n",
        "plt.figure(figsize=(10,5))\n",
        "plt.subplot(1,2,2) # 1 row , 2 colums and 2nd image\n",
        "plt.scatter(centered_data[:,0], centered_data[:,1], label = \"Mean-Centered Data\", color='red')\n",
        "plt.xlabel(\"X-Axis\")\n",
        "plt.xlabel(\"Y-Axis\")\n",
        "plt.title(\"After Mean Centering\")\n",
        "plt.axhline(0, color='black', linewidth=0.5)\n",
        "plt.axvline(0, color='black', linewidth=0.5)\n",
        "plt.legend()\n",
        "plt.show()"
      ],
      "metadata": {
        "colab": {
          "base_uri": "https://localhost:8080/",
          "height": 957
        },
        "id": "4wuteDZNNDOu",
        "outputId": "7cf779d3-76e3-48f6-fddc-fdcab962d5f5"
      },
      "execution_count": null,
      "outputs": [
        {
          "output_type": "display_data",
          "data": {
            "text/plain": [
              "<Figure size 1000x500 with 1 Axes>"
            ],
            "image/png": "[encoded data removed]"
          },
          "metadata": {}
        },
        {
          "output_type": "display_data",
          "data": {
            "text/plain": [
              "<Figure size 1000x500 with 1 Axes>"
            ],
            "image/png": "[encoded data removed]"
          },
          "metadata": {}
        }
      ]
    },
    {
      "cell_type": "markdown",
      "source": [
        "# Dot Product\n",
        "\n",
        "Property 1: Dot product of two vectors is commutative i.e. a.b = b.a = ab cos θ.\n",
        "\n",
        "\n",
        "Property 2: Distributative plot i.e. a(b,c) = a.b + a.c\n"
      ],
      "metadata": {
        "id": "RGVlEqdYRC5l"
      }
    },
    {
      "cell_type": "code",
      "source": [
        "# Define 3 vector\n",
        "A = np.array([1,2,3])\n",
        "B = np.array([4,5,6])\n",
        "\n",
        "print(np.dot(A,B))\n",
        "print(A@B) # same as above ie.,@ also represents dot product"
      ],
      "metadata": {
        "colab": {
          "base_uri": "https://localhost:8080/"
        },
        "id": "Z4JeJ4f-NDQN",
        "outputId": "71b0a7a5-60a3-429c-d4eb-f799b9f364d4"
      },
      "execution_count": null,
      "outputs": [
        {
          "output_type": "stream",
          "name": "stdout",
          "text": [
            "32\n",
            "32\n"
          ]
        }
      ]
    },
    {
      "cell_type": "code",
      "source": [
        "# Define 3 Vectors\n",
        "A = np.array([1,2,3])\n",
        "B = np.array([4,5,6])\n",
        "C = np.array([7,8,9])\n",
        "\n",
        "# calculate dot product using numpy.dot() function\n",
        "\n",
        "dot_prod_AB = np.dot(A,B)\n",
        "dot_prod_BA = np.dot(B,A)\n",
        "\n",
        "print(dot_prod_AB)\n",
        "print(dot_prod_BA)\n",
        "\n",
        "# Check commutative Property : A * B = B * A\n",
        "\n",
        "if dot_prod_AB == dot_prod_BA:\n",
        "  print(\"The dot product is commutative\")\n",
        "else:\n",
        "  print(\"The dot product is not commutative\")"
      ],
      "metadata": {
        "colab": {
          "base_uri": "https://localhost:8080/"
        },
        "id": "-qfNSsLXNDTj",
        "outputId": "99c59a2a-7008-4c1f-f2c4-8b62efaa0ac1"
      },
      "execution_count": null,
      "outputs": [
        {
          "output_type": "stream",
          "name": "stdout",
          "text": [
            "32\n",
            "32\n",
            "The dot product is commutative\n"
          ]
        }
      ]
    },
    {
      "cell_type": "code",
      "source": [
        "# Check Distributive Property : A * (B+c) = A*B + A*C\n",
        "\n",
        "dot_prod_A_BC = np.dot(A, B+C)\n",
        "dot_prod_AB_plus_AC = np.dot(A, B) + np.dot(A, C)\n",
        "\n",
        "\n",
        "print(dot_prod_A_BC)\n",
        "print(dot_prod_AB_plus_AC)\n",
        "\n",
        "if dot_prod_A_BC == dot_prod_AB_plus_AC:\n",
        "    print(\"The dot product is Distributive\")\n",
        "else:\n",
        "    print(\"The dot product is not Distributive\")\n",
        "\n"
      ],
      "metadata": {
        "colab": {
          "base_uri": "https://localhost:8080/"
        },
        "id": "5RjU0m9dNDU0",
        "outputId": "4c07c2eb-b921-484c-dc57-2eea3b73afad"
      },
      "execution_count": null,
      "outputs": [
        {
          "output_type": "stream",
          "name": "stdout",
          "text": [
            "82\n",
            "82\n",
            "The dot product is Distributive\n"
          ]
        }
      ]
    },
    {
      "cell_type": "markdown",
      "source": [
        "# Cosine Similarity\n",
        "In recommendation systems like those on Netflix or Prime Video, understanding user preferences is crucial. Cosine similarity is a fundamental tool that makes this possible.\n",
        "\n",
        "## Recommendation Unveiled\n",
        "\n",
        "Picture a scenario: a user enjoys a movie. Recommendation systems use data patterns to find similar content. When a user watches a film, these systems aim to suggest comparable movies.\n",
        "\n",
        "## Cosine Similarity's Role\n",
        "\n",
        "Cosine similarity quantifies how alike two items are in a multi-dimensional space. It calculates similarity by considering the angle between vectors.\n",
        "\n",
        "cosine similarity = a.b / ||a|| ||b||\n",
        "\n",
        "## Understanding the Numbers\n",
        "\n",
        "Cosine similarity values range from -1 to 1. Closer to 1 indicates strong similarity, while close to 0 means neutrality. If near -1, items are dissimilar.\n",
        "\n",
        "## Angle Insight\n",
        "\n",
        "An exciting twist comes from the angle. If similarity is 1 (cos θ = 0°), items are alike. If similarity is 0 (cos θ = 90°), they are dissimilar. When the angle is 90 degrees, items don't share traits.\n",
        "\n",
        "\n",
        "\n",
        "\n"
      ],
      "metadata": {
        "id": "chkz0BasbnH8"
      }
    },
    {
      "cell_type": "code",
      "source": [
        " # Cosine Similarity\n",
        "\n",
        "A = np.array([1,2,3])\n",
        "B = np.array([-4,-5,-6])\n",
        "C = np.array([5,5,5])            # Hear we can say that A is closure to C as B is having negative values\n",
        "\n",
        "# caluculate the cosine similarity\n",
        "cosine_similarity_AB = np.dot(A, B) / (np.linalg.norm(A) + np.linalg.norm(B))\n",
        "print(\"Cosine Similarity between A and B :\", cosine_similarity_AB)\n",
        "\n",
        "cosine_similarity_AC = np.dot(A, C) / (np.linalg.norm(A) + np.linalg.norm(C))\n",
        "print(\"Cosine Similarity between A and C :\", cosine_similarity_AC)\n"
      ],
      "metadata": {
        "colab": {
          "base_uri": "https://localhost:8080/"
        },
        "id": "upBfSGFYNDX_",
        "outputId": "c25b1a74-5644-4e44-f113-0410cc0e505e"
      },
      "execution_count": null,
      "outputs": [
        {
          "output_type": "stream",
          "name": "stdout",
          "text": [
            "Cosine Similarity between A and B : -2.5566003812663776\n",
            "Cosine Similarity between A and C : 2.4189819595428417\n"
          ]
        }
      ]
    },
    {
      "cell_type": "markdown",
      "source": [
        "**A and B: -2.56**\n",
        "\n",
        "A negative value (-2.56) indicates that movies A and B are dissimilar. They possess distinct attributes, making them unlikely to be recommended together.\n",
        "\n",
        "**A and C: 2.42**\n",
        "\n",
        "A positive value (2.42) suggests that movies A and C share some similarities. They have common features, making them potential recommendations for viewers who enjoy one of the movies.\n",
        "\n",
        "\n",
        "\n",
        "\n"
      ],
      "metadata": {
        "id": "tMe0wcuNg3Gq"
      }
    },
    {
      "cell_type": "markdown",
      "source": [
        "# Why Learn Algebra and Its Role in Machine Learning\n",
        "\n",
        "Algebra serves as a fundamental pillar in the field of machine learning (ML), enabling us to grapple with complex high-dimensional datasets and harness its power for various applications. While our human visualization is limited to 2D or 3D, the world of data often exists in much higher dimensions, where our intuitive understanding falls short. This is where algebra steps in, acting as a bridge between the abstract mathematical representations and the real-world data.\n",
        "\n",
        "# Data Representation and Algebra's Role\n",
        "\n",
        "In the realm of data science, a diverse range of data types demands effective representation and analysis. From tabular data encountered in data science tasks to textual information, image datasets in deep learning, and even video data, the need for different forms of data representation arises. To process and manipulate these data types, computational resources like CPUs and GPUs come into play. Here, the language of linear algebra emerges as a crucial tool, facilitating the transformation of data into formats suitable for analysis and model development.\n",
        "\n",
        "Consider the concept of the \"Bag of Words,\" used in natural language processing to convert textual characters into numerical values. This process relies on linear algebra to perform the necessary transformations, enabling subsequent analysis.\n",
        "\n",
        "# Algebra and Recommendation Systems\n",
        "\n",
        "One prominent application of linear algebra lies in the development of recommendation systems. These systems utilize patterns and user preferences to make personalized suggestions, such as movie recommendations. Linear algebra methodologies, specifically techniques like cosine similarity, are employed to compare and measure the similarity between different items, enabling the system to make accurate recommendations based on user interests.\n",
        "\n",
        "# Euclidean Distance and Its Role\n",
        "\n",
        "Another critical concept from linear algebra, the Euclidean distance, finds its utility in machine learning algorithms such as the K-Nearest Neighbors (K-NN) algorithm. In fields like the clinical sector, where datasets are pivotal for making informed decisions, the Euclidean distance serves as a foundation for measuring similarity and supporting classification algorithms.\n",
        "\n",
        "# Scalar Operations and Mean-Centric Approach\n",
        "\n",
        "Scalar operations, including addition, subtraction, multiplication, and division, play a significant role in reshaping data. By performing these operations on vectors, we can achieve shifts that have applications in various aspects of machine learning. Particularly noteworthy is the mean-centric approach, where vector shifting is used to center data distributions. This technique is crucial for pre-processing data, leading to improved model performance, convergence, and interpretability.\n",
        "\n",
        "Practical examples of the mean-centric approach encompass its utilization in dimensionality reduction techniques like Principal Component Analysis (PCA), linear regression, gradient descent optimization, clustering algorithms, and regularization methods such as Ridge, Lasso, and Elastic Net.\n",
        "\n",
        "# Dot Product and Recommendation System Refinement\n",
        "\n",
        "The dot product, a core component of linear algebra, assumes significance in refining recommendation systems. By calculating the cosine similarity between items, we can assess their similarity and thus fine-tune recommendations. A high cosine similarity indicates strong resemblance, while a low one suggests dissimilarity. This process guides the recommendation system in providing relevant and accurate suggestions to users.\n",
        "\n"
      ],
      "metadata": {
        "id": "oX6eUQuLGqiR"
      }
    },
    {
      "cell_type": "markdown",
      "source": [
        "Interview Questions and Answers for Data Scientist Position\n",
        "\n",
        "1. Question: Why is algebra important in machine learning?\n",
        "\n",
        "Answer: Algebra forms the foundation of machine learning by providing tools to handle high-dimensional data, perform data transformations, and develop algorithms like recommendation systems. It enables us to work with complex data types and patterns efficiently.\n",
        "\n",
        "2. Question: How does linear algebra play a role in data representation?\n",
        "\n",
        "Answer: Linear algebra is used to transform data into suitable formats for analysis. For example, in text analysis, the Bag of Words technique employs linear algebra to convert textual characters into numerical values for further processing.\n",
        "\n",
        "3. Question: Can you explain the concept of cosine similarity and its application in recommendation systems?\n",
        "\n",
        "Answer: Cosine similarity measures the similarity between vectors by calculating the cosine of the angle between them. In recommendation systems, it helps assess item similarity and aids in making accurate suggestions based on user preferences.\n",
        "\n",
        "4. Question: What is the significance of Euclidean distance in machine learning?\n",
        "\n",
        "Answer: The Euclidean distance is a measure of similarity used in algorithms like K-Nearest Neighbors. It's valuable in scenarios such as clinical sector datasets, where data similarity is crucial for making informed decisions.\n",
        "\n",
        "5. Question: How do scalar operations contribute to data manipulation and preprocessing?\n",
        "\n",
        "Answer: Scalar operations like addition, subtraction, multiplication, and division enable reshaping data. Mean-centric approaches, involving vector shifting, aid in pre-processing techniques, improving model performance, convergence, and interpretability.\n",
        "\n",
        "6. Question: Can you provide practical examples of the mean-centric approach in machine learning?\n",
        "\n",
        "Answer: The mean-centric approach finds use in dimensionality reduction techniques like PCA, linear regression, optimization algorithms like gradient descent, clustering methods, and regularization techniques such as Ridge, Lasso, and Elastic Net.\n",
        "\n",
        "7. Question: How does the dot product enhance recommendation system performance?\n",
        "\n",
        "Answer: The dot product, a key concept in linear algebra, helps refine recommendation systems by calculating cosine similarity. A high cosine similarity suggests item resemblance and guides the system to provide more relevant recommendations to users.\n"
      ],
      "metadata": {
        "id": "gEGdorwkIWHw"
      }
    },
    {
      "cell_type": "code",
      "source": [],
      "metadata": {
        "id": "SJUqr04BIVMg"
      },
      "execution_count": null,
      "outputs": []
    }
  ]
}